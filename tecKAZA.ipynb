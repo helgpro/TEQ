{
 "cells": [
  {
   "cell_type": "code",
   "execution_count": 3,
   "metadata": {},
   "outputs": [],
   "source": [
    "import os\n",
    "import sys\n",
    "import re\n",
    "import string\n",
    "import datetime\n",
    "import time\n",
    "import numpy as np\n",
    "import matplotlib as mptl\n",
    "import matplotlib.cm as cm\n",
    "import matplotlib.pyplot as plt\n",
    "from numpy import *\n",
    "from datetime import timedelta\n",
    "from datetime import datetime\n",
    "from matplotlib.pyplot import grid, figure, plot, savefig\n",
    "from time import gmtime, strftime\n",
    "import pandas as pd\n",
    "import math\n",
    "#END OF HEADER"
   ]
  },
  {
   "cell_type": "code",
   "execution_count": 312,
   "metadata": {},
   "outputs": [],
   "source": [
    "timeArr=[]\n",
    "arrF=[]\n",
    "arrS=[]\n",
    "arrSvs=[]\n",
    "test=[]\n",
    "filename =   os.path.basename('KAZA2020501.20o')\n",
    "#filename =   os.path.basename('KAZA200502.20o')\n",
    "#KAZA1420.20O\n",
    "#print(filename1)\n",
    "file1 = open (filename)\n",
    "allLines = file1.readlines()\n",
    "file1linecount = len(allLines)\n",
    "file1.seek(0) # peremestit ukozatel v nachal\n",
    "\n",
    "for ln in range(file1linecount) :#3700 strok все строки\n",
    "    # read equivalent lines from 2 or 3 files, at index ln (line number); 0 base\n",
    "    line  = file1.readline()\n",
    "    #print(line)\n",
    "    #line  = file1.readline()\n",
    "   \n",
    "    #re.findall(r'G..|R..', param)END OF HEADER\n",
    "  \n",
    "    if ln==15:\n",
    "        times = (line[4:24])\n",
    "        #print(line)\n",
    "        times=times.replace(\"    \", \" \")\n",
    "        times=times.replace(\"   \", \" \")\n",
    "        times=times.replace(\"  \", \" \")\n",
    "        times = times.replace(\" \", \" \")\n",
    "        times=times.strip()\n",
    "        times= times.split(\" \")\n",
    "        #print(times)\n",
    "        timeArr = times\n",
    "    if ln >= 17 :\n",
    "        param=line.strip() #str\n",
    "        \n",
    "#        print(line)\n",
    "#        print('-------------------------')\n",
    "\n",
    "        #print(paramtimeSvs = np.array(timeSvs,dtype=object))\n",
    "    #    r = re.split(r'G', line)\n",
    "        #print(param)                        #G28G17G12G24G 6G 2\n",
    "        result = re.findall(r'G..|R..', param)# ищим G любые симв и R люб символы        # type list\n",
    "        \n",
    "\n",
    "        if result :  #\n",
    "            #result = re.sub('\\s', '', result)# est probeli \n",
    "            arrSvs.append(result)#[['G16', 'G23', 'G 6', 'G 9', 'G 4', 'G22', 'G 3', 'G26', 'G14', 'G31'], ['G16', 'G2....]]\n",
    "            #time.sleep(0.5)\n",
    "        else:\n",
    "            #109723767.5854 8  85499045.2474 7    109723767.58548  85499045.24747      type STR\n",
    "            res = re.sub('\\s\\w\\s', '7', param)#zamena otshipaih jstatkov na 7\n",
    "            res=res.replace(\" \", \";\")#Замена пробелоа на ; для видимости\n",
    "    ###########   Problem chto ne odinak kol probelov megdu dannimi #################\n",
    "            # в данном случае{ L1, нет L2, C1,нет P1, нет P2 возможно будет что есть L2? ytn C1 \n",
    "            res=res.replace(';;;;;;;;;;;;;;;;;;;',\"::\")#между L1  и C1 19 пробелов\n",
    "            res=res.replace(\";;;;;;;;;;;;;;;;;;\", \"::\")#7660\n",
    "            res=res.replace(\";;;;;;;;;;;;;;;;;\", \"::\")\n",
    "            res=res.replace(\";;;;;;;;;;;;;;;;\", \"::\")\n",
    "            res=res.replace(\";;;;;;;;;;;;;;;\", \"::\")\n",
    "            ###### Пробелы между данными которые есть но пробелы разные(5+2 параметров есть\n",
    "            res=res.replace(\";;;;;;;;;;\", \";\")\n",
    "            res=res.replace(\";;;;;\", \";\")\n",
    "            res=res.replace(\";;;;\", \";\")\n",
    "            res=res.replace(\";;;\", \";\")\n",
    "            res=res.replace(\";;\", \";\")\n",
    "            res=res.replace(\"::\", \";NaN;\")\n",
    "            \n",
    "            res= res.split(\";\")  #          Type list\n",
    "            #param = list(map(float, param))\n",
    "            test.append(res)\n",
    "\n"
   ]
  },
  {
   "cell_type": "code",
   "execution_count": 313,
   "metadata": {},
   "outputs": [],
   "source": [
    "#print(len(arrSvs))\n",
    "#print(len(test))\n",
    "voln=[]\n",
    "SVS=[]\n",
    "for x in range(len(test)):# chetni stroki popadat 5 parametrov(L1,L2,C,P2) eshe 2 poslednie 2 parametra s1 s2 signal shum\n",
    "    if x%2==0:\n",
    "        #print(len(test[x]))\n",
    "        voln.append(test[x])\n",
    "################################# svs ame time epoch #################\n",
    "\n",
    "epoch=[]\n",
    "t=0\n",
    "##arrSvs ==[['G16', 'G23', 'G6', 'G9', 'G4', 'G22', 'G3', 'G26', 'G14', 'G31'], ['G16', 'G2....]]\n",
    "for i in range(len(arrSvs)):#  SVS epoch columns\n",
    "\n",
    "    for ii in range(len(arrSvs[i])):\n",
    "  \n",
    "        arrSvs[i][ii] = re.sub('\\s', '', arrSvs[i][ii])# udalit probel probel G 1   G1  G 4  G4(krivo nazvani sputniki)\n",
    "        SVS.append(arrSvs[i][ii])\n",
    "        epoch.append(t) # massiv po 30 sec\n",
    "        #SVS.append(arrSvs[i])\n",
    "    t+=30         # ispolzuem vsegda v priemnike mogno brat s faila\n",
    "    \n",
    "#print(len(epoch))\n"
   ]
  },
  {
   "cell_type": "code",
   "execution_count": 328,
   "metadata": {},
   "outputs": [
    {
     "data": {
      "text/html": [
       "<div>\n",
       "<style scoped>\n",
       "    .dataframe tbody tr th:only-of-type {\n",
       "        vertical-align: middle;\n",
       "    }\n",
       "\n",
       "    .dataframe tbody tr th {\n",
       "        vertical-align: top;\n",
       "    }\n",
       "\n",
       "    .dataframe thead th {\n",
       "        text-align: right;\n",
       "    }\n",
       "</style>\n",
       "<table border=\"1\" class=\"dataframe\">\n",
       "  <thead>\n",
       "    <tr style=\"text-align: right;\">\n",
       "      <th></th>\n",
       "      <th>svs</th>\n",
       "      <th>epoch</th>\n",
       "      <th>L1</th>\n",
       "      <th>L2</th>\n",
       "      <th>C1</th>\n",
       "      <th>P2</th>\n",
       "    </tr>\n",
       "  </thead>\n",
       "  <tbody>\n",
       "    <tr>\n",
       "      <th>0</th>\n",
       "      <td>G16</td>\n",
       "      <td>0</td>\n",
       "      <td>-18111043.99447</td>\n",
       "      <td>-14410721.63045</td>\n",
       "      <td>21401834.0314</td>\n",
       "      <td>21401826.2274</td>\n",
       "    </tr>\n",
       "    <tr>\n",
       "      <th>1</th>\n",
       "      <td>G23</td>\n",
       "      <td>0</td>\n",
       "      <td>-5295583.58247</td>\n",
       "      <td>-4434418.59144</td>\n",
       "      <td>23758758.9614</td>\n",
       "      <td>23758750.0594</td>\n",
       "    </tr>\n",
       "    <tr>\n",
       "      <th>2</th>\n",
       "      <td>G6</td>\n",
       "      <td>0</td>\n",
       "      <td>-605413.22045</td>\n",
       "      <td>-475255.65445</td>\n",
       "      <td>25210491.2424</td>\n",
       "      <td>25210486.3914</td>\n",
       "    </tr>\n",
       "    <tr>\n",
       "      <th>3</th>\n",
       "      <td>G9</td>\n",
       "      <td>0</td>\n",
       "      <td>-7275166.60146</td>\n",
       "      <td>-5647523.78346</td>\n",
       "      <td>23999567.5314</td>\n",
       "      <td>23999563.3984</td>\n",
       "    </tr>\n",
       "    <tr>\n",
       "      <th>4</th>\n",
       "      <td>G4</td>\n",
       "      <td>0</td>\n",
       "      <td>-21899870.48247</td>\n",
       "      <td>-17039794.08246</td>\n",
       "      <td>21337295.5084</td>\n",
       "      <td>21337289.1764</td>\n",
       "    </tr>\n",
       "  </tbody>\n",
       "</table>\n",
       "</div>"
      ],
      "text/plain": [
       "   svs  epoch               L1               L2             C1             P2\n",
       "0  G16      0  -18111043.99447  -14410721.63045  21401834.0314  21401826.2274\n",
       "1  G23      0   -5295583.58247   -4434418.59144  23758758.9614  23758750.0594\n",
       "2   G6      0    -605413.22045    -475255.65445  25210491.2424  25210486.3914\n",
       "3   G9      0   -7275166.60146   -5647523.78346  23999567.5314  23999563.3984\n",
       "4   G4      0  -21899870.48247  -17039794.08246  21337295.5084  21337289.1764"
      ]
     },
     "execution_count": 328,
     "metadata": {},
     "output_type": "execute_result"
    }
   ],
   "source": [
    "arrF = np.array(voln,dtype=object)\n",
    "arrS = np.array(SVS,dtype=object)\n",
    "c_cons = 3e+5      # skorost sveta\n",
    "#c_cons = 299792458\n",
    "df = pd.DataFrame(voln, columns=['L1','L2','C1','P2'])\n",
    "df.insert(loc=0, column=\"svs\", value=arrS)\n",
    "df.insert(loc=1, column=\"epoch\", value=epoch)\n",
    "#0\t[G16, G23, G6, G9, G4, G22, G3, G26, G14, G31]\t0\t-18111043.99447\t-14410721.63045\t21401834.0314\t21401826.2274\n",
    "df.head(5)"
   ]
  },
  {
   "cell_type": "code",
   "execution_count": 397,
   "metadata": {},
   "outputs": [],
   "source": [
    "df = df.astype({'L1':'float','L2':'float','C1':'float','P2':'float'})# 2 VARIANT\n",
    "df['beta']= (df['P2']-df['C1'])-(df['L1']-df['L2'])\n",
    "\n",
    "df['ff']=(1575.43**2*1227.60**2)/(40.308*(1575.43**2-1227.60**2)) # kombinaciya chastot\n",
    "#df['ff2']=(1575.43**2*1227.60**2)/((1575.43**2-1227.60**2)*40.308)\n",
    "df['epoch_h']= (df['epoch']/3600)\n",
    "df.dropna(inplace=True)\n",
    "#df.head(150)"
   ]
  },
  {
   "cell_type": "code",
   "execution_count": 400,
   "metadata": {},
   "outputs": [
    {
     "data": {
      "image/png": "[encoded data removed]",
      "text/plain": [
       "<Figure size 432x288 with 1 Axes>"
      ]
     },
     "metadata": {
      "needs_background": "light"
     },
     "output_type": "display_data"
    },
    {
     "data": {
      "image/png": "[encoded data removed]",
      "text/plain": [
       "<Figure size 432x288 with 1 Axes>"
      ]
     },
     "metadata": {
      "needs_background": "light"
     },
     "output_type": "display_data"
    },
    {
     "data": {
      "image/png": "[encoded data removed]",
      "text/plain": [
       "<Figure size 432x288 with 1 Axes>"
      ]
     },
     "metadata": {
      "needs_background": "light"
     },
     "output_type": "display_data"
    }
   ],
   "source": [
    "\n",
    "\n",
    "df['Ispb']= df['ff']*(df['P2']-df['C1'])   # prilomlinie koef  0.0248\n",
    "\n",
    "df['Islc']= df['ff']*(df['L1']*19.04-df['L2']*24.43)# P.S. poprob ukaz v mm cm m\n",
    "#df['Vtec']=df['Ispb']*(1-(6400*np.cos(80)/(6400+400)))#0.9782\n",
    "df['Vtec']=df['Ispb']*((6400/(6400+400))*np.sin(90*0.9782))#0.9782\n",
    "#df['Vtec2']=df['Islc']*np.cos(np.arctan(6400000*np.cos(80)/(6400000+350000)))\n",
    "#df['Islc']= df['ff']*(df['L1']*19.04-df['L2']*24.43)# P.S. poprob ukaz v mm cm m\n",
    "#ds = (df.loc[df['svs'] == 'G17' ])#18 #10 #7\n",
    "ds =  df[df['svs'].isin(['G7','G10','G18'])]\n",
    "#print(ds)\n",
    "#ds = (df.loc[df['epoch_h'] == ''])\n",
    "#ds = ds.loc[(ds['epoch_h'] >= 5) & (ds['epoch_h'] < 11)]# c 6 часа по 8 угол 80\n",
    "#print(ds)\n",
    "\n",
    "#df['Islc']= 0.0248*df['ff']/(1575.43**2-1227.60**2)*(df['L1']-df['L2'])\n",
    "#df['Islc']= 0.0248*df['ff']/(1575.43**2-1227.60**2)*(df['L1']*(c_cons/1575.43)-df['L2']*(c_cons/1227.60))\n",
    "\n",
    "#print(df.dtypes)\n",
    "#ds = (df.loc[df['svs'] == 'G6'])\n",
    "\n",
    "ds.plot(x='epoch_h',y='Ispb',c='DarkBlue')\n",
    "ds.plot(x='epoch_h',y='Vtec',c='DarkGreen')\n",
    "#ds.plot.scatter(x='epoch_h',y='beta',c='DarkGreen')\n",
    "ds.plot.scatter(x='epoch_h',y='Islc',c='DarkBlue')\n",
    "\n",
    "#ds.plot.scatter(x='epoch_h',y='Vtec2',c='DarkGreen')\n",
    "#ds.plot.scatter(x='epoch_h',y='CrIslc',c='DarkRed')\n",
    "\n",
    "plt.show()"
   ]
  }
 ],
 "metadata": {
  "kernelspec": {
   "display_name": "Python 3",
   "language": "python",
   "name": "python3"
  },
  "language_info": {
   "codemirror_mode": {
    "name": "ipython",
    "version": 3
   },
   "file_extension": ".py",
   "mimetype": "text/x-python",
   "name": "python",
   "nbconvert_exporter": "python",
   "pygments_lexer": "ipython3",
   "version": "3.7.2"
  }
 },
 "nbformat": 4,
 "nbformat_minor": 4
}
